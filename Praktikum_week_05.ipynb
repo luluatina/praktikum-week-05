{
  "nbformat": 4,
  "nbformat_minor": 0,
  "metadata": {
    "colab": {
      "provenance": [],
      "authorship_tag": "ABX9TyNvBnuL6wlG+678lHxlkYAk",
      "include_colab_link": true
    },
    "kernelspec": {
      "name": "python3",
      "display_name": "Python 3"
    },
    "language_info": {
      "name": "python"
    }
  },
  "cells": [
    {
      "cell_type": "markdown",
      "metadata": {
        "id": "view-in-github",
        "colab_type": "text"
      },
      "source": [
        "<a href=\"https://colab.research.google.com/github/luluatina/praktikum-week-05/blob/main/Praktikum_week_05.ipynb\" target=\"_parent\"><img src=\"https://colab.research.google.com/assets/colab-badge.svg\" alt=\"Open In Colab\"/></a>"
      ]
    },
    {
      "cell_type": "code",
      "source": [
        "# Program untuk menentukan apakah suatu tahun adalah tahun kabisat\n",
        "\n",
        "tahun = int(input(\"Masukkan tahun: \"))\n",
        "\n",
        "if tahun % 4 == 0:\n",
        "    if tahun % 100 == 0:\n",
        "        if tahun % 400 == 0:\n",
        "            print(tahun, \"adalah tahun kabisat\")\n",
        "        else:\n",
        "            print(tahun, \"bukan tahun kabisat\")\n",
        "\n",
        "    else:\n",
        "        print(tahun, \"adalah tahun kabisat\")\n",
        "else:\n",
        "    print(tahun, \"bukan tahun kabisat\")"
      ],
      "metadata": {
        "colab": {
          "base_uri": "https://localhost:8080/"
        },
        "id": "L44YChJW0AcV",
        "outputId": "28266ef9-ddee-4fbe-ae62-17fc0964ce8d"
      },
      "execution_count": 2,
      "outputs": [
        {
          "output_type": "stream",
          "name": "stdout",
          "text": [
            "Masukkan tahun: 2001\n",
            "2001 bukan tahun kabisat\n"
          ]
        }
      ]
    },
    {
      "cell_type": "code",
      "source": [
        "# Program untuk menentukan angka terbesar dari tiga angka\n",
        "angka1 = float(input(\"Masukkan angka pertama: \"))\n",
        "angka2 = float(input(\"Masukkan angka kedua: \"))\n",
        "angka3 = float(input(\"Masukkan angka ketiga: \"))\n",
        "\n",
        "if angka1 >= angka2:\n",
        "  if angka1 >= angka3:\n",
        "    print(\"Angka terbesar adalah\", angka1)\n",
        "  else:\n",
        "    print(\"Angka terbesar adalah\", angka3)\n",
        "else:\n",
        "  if angka2 >= angka3:\n",
        "    print(\"Angka terbesar adalah\", angka2)\n",
        "  else:\n",
        "    print(\"Angka terbesar adalah\", angka3)\n",
        "\n"
      ],
      "metadata": {
        "colab": {
          "base_uri": "https://localhost:8080/"
        },
        "id": "DjdUhZw-1WEO",
        "outputId": "03509152-8f62-453f-d1b4-16e776c2e750"
      },
      "execution_count": 4,
      "outputs": [
        {
          "output_type": "stream",
          "name": "stdout",
          "text": [
            "Masukkan angka pertama: 17.5\n",
            "Masukkan angka kedua: 23\n",
            "Masukkan angka ketiga: 20.7\n",
            "Angka terbesar adalah 23.0\n"
          ]
        }
      ]
    },
    {
      "cell_type": "code",
      "source": [
        "# Program untuk menghitung total belanja dengan diskon sesuai ketentuan\n",
        "\n",
        "# Input jenis konsumen dan total belanja\n",
        "jenis_konsumen = input(\"Masukkan jenis konsumen (member/non-member): \")\n",
        "total_belanja = float(input(\"Masukkan total belanja: \"))\n",
        "\n",
        "# Perhitungan diskon\n",
        "if total_belanja > 200000:\n",
        "    diskon = 0.04\n",
        "elif total_belanja > 100000:\n",
        "    diskon = 0.03\n",
        "else:\n",
        "    diskon = 0.0\n",
        "\n",
        "# Diskon tambahan untuk member\n",
        "if jenis_konsumen == \"member\":\n",
        "  diskon += 0.02\n",
        "\n",
        "# Hitung total yang harus dibayar\n",
        "total_diskon = diskon * total_belanja\n",
        "total_bayar = total_belanja - total_diskon\n",
        "\n",
        "# Tampilkan hasil\n",
        "print(\"Total belanja:\", total_belanja)\n",
        "print(\"Total diskon:\", total_diskon)\n",
        "print(\"Total yang harus dibayar:\", total_bayar)\n",
        "\n"
      ],
      "metadata": {
        "colab": {
          "base_uri": "https://localhost:8080/"
        },
        "id": "easy7CMS4Hw-",
        "outputId": "33111918-03fa-4e92-a812-bc1c268d52f5"
      },
      "execution_count": 10,
      "outputs": [
        {
          "output_type": "stream",
          "name": "stdout",
          "text": [
            "Masukkan jenis konsumen (member/non-member): non-member\n",
            "Masukkan total belanja: 50000\n",
            "Total belanja: 50000.0\n",
            "Total diskon: 0.0\n",
            "Total yang harus dibayar: 50000.0\n"
          ]
        }
      ]
    },
    {
      "cell_type": "code",
      "source": [
        "# Program untuk membuat user baru\n",
        "\n",
        "# Input dari pengguna\n",
        "username = input(\"Masukkan username baru: \")\n",
        "email = input(\"Masukkan email baru: \")\n",
        "password = input(\"Masukkan password baru: \")\n",
        "\n",
        "# Cek validasi\n",
        "if username != \"\":\n",
        "    if \"@\" in email:\n",
        "        if len(password) >= 8:\n",
        "            print(\"User baru berhasil dibuat.\")\n",
        "        else:\n",
        "            print(\"Gagal: Password harus memiliki minimal 8 karakter.\")\n",
        "    else:\n",
        "        print(\"Gagal: Email harus mengandung '@'.\")\n",
        "else:\n",
        "    print(\"Gagal: Username tidak boleh kosong.\")"
      ],
      "metadata": {
        "colab": {
          "base_uri": "https://localhost:8080/"
        },
        "id": "mFGTDtn58Uxu",
        "outputId": "ed4fa19d-c4f3-420f-9903-016ad2c618a6"
      },
      "execution_count": 15,
      "outputs": [
        {
          "output_type": "stream",
          "name": "stdout",
          "text": [
            "Masukkan username baru: lulabee\n",
            "Masukkan email baru: lulabee@gmail.com\n",
            "Masukkan password baru: lulabee40455\n",
            "User baru berhasil dibuat.\n"
          ]
        }
      ]
    }
  ]
}